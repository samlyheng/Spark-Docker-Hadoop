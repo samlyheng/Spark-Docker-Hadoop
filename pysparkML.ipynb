{
 "cells": [
  {
   "cell_type": "code",
   "execution_count": 15,
   "id": "4a63653e-f145-4814-80e9-6dab90deb8e7",
   "metadata": {},
   "outputs": [
    {
     "name": "stdout",
     "output_type": "stream",
     "text": [
      "+--------------+----------------+-----------------+------+--------------------------+----------------------+-----------+----------------------+----------------------+-------------------+-------------------+---------+-------------------------+------+-----------------------+------+------------------+-----------------+-------------+-----------------------------------+-----------------------------------+--------------------------------------+-----------------------------------+--------------------------------+----------------------------------------------+-----------------------------------+-----------------------------------+--------------------------------------+-----------------------------------+--------------------------------+----------------------------------------------+-----------------+--------------+-----+--------+\n",
      "|Marital status|Application mode|Application order|Course|Daytime/evening attendance|Previous qualification|Nacionality|Mother's qualification|Father's qualification|Mother's occupation|Father's occupation|Displaced|Educational special needs|Debtor|Tuition fees up to date|Gender|Scholarship holder|Age at enrollment|International|Curricular units 1st sem (credited)|Curricular units 1st sem (enrolled)|Curricular units 1st sem (evaluations)|Curricular units 1st sem (approved)|Curricular units 1st sem (grade)|Curricular units 1st sem (without evaluations)|Curricular units 2nd sem (credited)|Curricular units 2nd sem (enrolled)|Curricular units 2nd sem (evaluations)|Curricular units 2nd sem (approved)|Curricular units 2nd sem (grade)|Curricular units 2nd sem (without evaluations)|Unemployment rate|Inflation rate|  GDP|  Target|\n",
      "+--------------+----------------+-----------------+------+--------------------------+----------------------+-----------+----------------------+----------------------+-------------------+-------------------+---------+-------------------------+------+-----------------------+------+------------------+-----------------+-------------+-----------------------------------+-----------------------------------+--------------------------------------+-----------------------------------+--------------------------------+----------------------------------------------+-----------------------------------+-----------------------------------+--------------------------------------+-----------------------------------+--------------------------------+----------------------------------------------+-----------------+--------------+-----+--------+\n",
      "|             1|               8|                5|     2|                         1|                     1|          1|                    13|                    10|                  6|                 10|        1|                        0|     0|                      1|     1|                 0|               20|            0|                                  0|                                  0|                                     0|                                  0|                             0.0|                                             0|                                  0|                                  0|                                     0|                                  0|                             0.0|                                             0|             10.8|           1.4| 1.74| Dropout|\n",
      "|             1|               6|                1|    11|                         1|                     1|          1|                     1|                     3|                  4|                  4|        1|                        0|     0|                      0|     1|                 0|               19|            0|                                  0|                                  6|                                     6|                                  6|                            14.0|                                             0|                                  0|                                  6|                                     6|                                  6|              13.666666666666666|                                             0|             13.9|          -0.3| 0.79|Graduate|\n",
      "|             1|               1|                5|     5|                         1|                     1|          1|                    22|                    27|                 10|                 10|        1|                        0|     0|                      0|     1|                 0|               19|            0|                                  0|                                  6|                                     0|                                  0|                             0.0|                                             0|                                  0|                                  6|                                     0|                                  0|                             0.0|                                             0|             10.8|           1.4| 1.74| Dropout|\n",
      "|             1|               8|                2|    15|                         1|                     1|          1|                    23|                    27|                  6|                  4|        1|                        0|     0|                      1|     0|                 0|               20|            0|                                  0|                                  6|                                     8|                                  6|              13.428571428571429|                                             0|                                  0|                                  6|                                    10|                                  5|                            12.4|                                             0|              9.4|          -0.8|-3.12|Graduate|\n",
      "|             2|              12|                1|     3|                         0|                     1|          1|                    22|                    28|                 10|                 10|        0|                        0|     0|                      1|     0|                 0|               45|            0|                                  0|                                  6|                                     9|                                  5|              12.333333333333334|                                             0|                                  0|                                  6|                                     6|                                  6|                            13.0|                                             0|             13.9|          -0.3| 0.79|Graduate|\n",
      "|             2|              12|                1|    17|                         0|                    12|          1|                    22|                    27|                 10|                  8|        0|                        0|     1|                      1|     1|                 0|               50|            0|                                  0|                                  5|                                    10|                                  5|              11.857142857142858|                                             0|                                  0|                                  5|                                    17|                                  5|                            11.5|                                             5|             16.2|           0.3|-0.92|Graduate|\n",
      "|             1|               1|                1|    12|                         1|                     1|          1|                    13|                    28|                  8|                 11|        1|                        0|     0|                      1|     0|                 1|               18|            0|                                  0|                                  7|                                     9|                                  7|                            13.3|                                             0|                                  0|                                  8|                                     8|                                  8|                          14.345|                                             0|             15.5|           2.8|-4.06|Graduate|\n",
      "|             1|               9|                4|    11|                         1|                     1|          1|                    22|                    27|                 10|                 10|        1|                        0|     0|                      0|     1|                 0|               22|            0|                                  0|                                  5|                                     5|                                  0|                             0.0|                                             0|                                  0|                                  5|                                     5|                                  0|                             0.0|                                             0|             15.5|           2.8|-4.06| Dropout|\n",
      "|             1|               1|                3|    10|                         1|                     1|         15|                     1|                     1|                 10|                 10|        0|                        0|     0|                      1|     0|                 1|               21|            1|                                  0|                                  6|                                     8|                                  6|                          13.875|                                             0|                                  0|                                  6|                                     7|                                  6|              14.142857142857142|                                             0|             16.2|           0.3|-0.92|Graduate|\n",
      "|             1|               1|                1|    10|                         1|                     1|          1|                     1|                    14|                  5|                  8|        1|                        0|     1|                      0|     0|                 0|               18|            0|                                  0|                                  6|                                     9|                                  5|                            11.4|                                             0|                                  0|                                  6|                                    14|                                  2|                            13.5|                                             0|              8.9|           1.4| 3.51| Dropout|\n",
      "|             1|               1|                1|    14|                         1|                     1|          1|                    23|                    14|                  6|                  8|        1|                        0|     0|                      1|     0|                 0|               18|            0|                                  0|                                  6|                                     6|                                  6|              12.333333333333334|                                             0|                                  0|                                  6|                                     7|                                  5|                            14.2|                                             0|             13.9|          -0.3| 0.79|Graduate|\n",
      "|             1|               1|                1|    12|                         1|                     1|          1|                    13|                    28|                 10|                 10|        1|                        0|     0|                      1|     0|                 1|               18|            0|                                  0|                                  8|                                     8|                                  7|              13.214285714285714|                                             0|                                  0|                                  8|                                     8|                                  7|              13.214285714285714|                                             0|             12.7|           3.7| -1.7|Graduate|\n",
      "|             1|               1|                2|    16|                         1|                     1|          1|                    13|                    27|                  5|                 10|        1|                        0|     0|                      1|     0|                 0|               19|            0|                                  0|                                  6|                                     6|                                  0|                             0.0|                                             0|                                  0|                                  6|                                     0|                                  0|                             0.0|                                             0|             12.7|           3.7| -1.7| Dropout|\n",
      "|             1|              17|                1|    11|                         1|                    16|          1|                     1|                     1|                  5|                  8|        1|                        0|     0|                      1|     0|                 1|               21|            0|                                  0|                                  6|                                     7|                                  6|              10.571428571428571|                                             0|                                  0|                                  6|                                     8|                                  5|                            11.0|                                             0|              8.9|           1.4| 3.51|Graduate|\n",
      "|             1|               1|                1|     6|                         1|                     1|          1|                    23|                    27|                  6|                  6|        1|                        0|     0|                      1|     0|                 1|               18|            0|                                  0|                                  5|                                     7|                                  4|                           13.25|                                             0|                                  0|                                  5|                                     5|                                  5|                            12.0|                                             0|             10.8|           1.4| 1.74|Graduate|\n",
      "|             1|               1|                1|    15|                         1|                     1|          1|                    13|                    27|                 10|                  4|        1|                        0|     0|                      1|     0|                 0|               20|            0|                                  0|                                  6|                                     6|                                  5|                            13.2|                                             0|                                  0|                                  6|                                     7|                                  0|                             0.0|                                             0|             15.5|           2.8|-4.06| Dropout|\n",
      "|             1|               9|                1|    10|                         1|                     1|          1|                    13|                    28|                  6|                  9|        1|                        0|     0|                      1|     0|                 0|               18|            0|                                  0|                                  6|                                    10|                                  1|                            12.0|                                             0|                                  0|                                  6|                                    14|                                  2|                            11.0|                                             0|             10.8|           1.4| 1.74|Enrolled|\n",
      "|             1|               8|                2|    12|                         1|                     1|          1|                    13|                     1|                  6|                  5|        1|                        0|     0|                      1|     0|                 0|               18|            0|                                  0|                                  7|                                     8|                                  7|                        13.30625|                                             0|                                  0|                                  8|                                     8|                                  8|                          14.545|                                             0|             15.5|           2.8|-4.06|Graduate|\n",
      "|             1|               1|                1|     8|                         1|                     1|          1|                     3|                    14|                  4|                  6|        1|                        0|     0|                      1|     0|                 0|               20|            0|                                  0|                                  5|                                     8|                                  4|                            12.5|                                             1|                                  0|                                  5|                                     8|                                  4|                           12.25|                                             2|             10.8|           1.4| 1.74|Graduate|\n",
      "|             1|               1|                1|    16|                         1|                     1|          1|                    13|                    14|                  8|                  8|        1|                        0|     0|                      1|     0|                 0|               18|            0|                                  0|                                  7|                                     7|                                  6|              11.666666666666666|                                             0|                                  0|                                  7|                                     8|                                  6|                            13.5|                                             0|             16.2|           0.3|-0.92|Enrolled|\n",
      "+--------------+----------------+-----------------+------+--------------------------+----------------------+-----------+----------------------+----------------------+-------------------+-------------------+---------+-------------------------+------+-----------------------+------+------------------+-----------------+-------------+-----------------------------------+-----------------------------------+--------------------------------------+-----------------------------------+--------------------------------+----------------------------------------------+-----------------------------------+-----------------------------------+--------------------------------------+-----------------------------------+--------------------------------+----------------------------------------------+-----------------+--------------+-----+--------+\n",
      "only showing top 20 rows\n",
      "\n"
     ]
    }
   ],
   "source": [
    "from pyspark.sql import SparkSession\n",
    "\n",
    "# Create a Spark session\n",
    "spark = SparkSession.builder \\\n",
    "    .appName(\"HadoopReadExample\") \\\n",
    "    .config(\"spark.eventLog.enabled\", \"true\") \\\n",
    "    .config(\"spark.eventLog.dir\", \"file:/home/jovyan/work/logs\") \\\n",
    "    .getOrCreate()\n",
    "\n",
    "# Hadoop namenode address\n",
    "\n",
    "# hadoop_namenode_address = \"172.18.0.6\"\n",
    "hadoop_namenode_address = \"namenode.docker-hadoop-default\"\n",
    "csv_path = f\"hdfs://{hadoop_namenode_address}:9000/user/root/student_data\"\n",
    "# HDFS path to your CSV file\n",
    "\n",
    "\n",
    "# Read the CSV file into a PySpark DataFrame\n",
    "df_from_hdfs = spark.read.csv(csv_path, header=True, inferSchema=True)\n",
    "\n",
    "# Show the DataFrame\n",
    "df_from_hdfs.show()"
   ]
  },
  {
   "cell_type": "code",
   "execution_count": 16,
   "id": "1c939a3f-1656-4d65-b7fa-5921209ac251",
   "metadata": {},
   "outputs": [
    {
     "name": "stdout",
     "output_type": "stream",
     "text": [
      "Count of rows in the dataset after preprocessing: 4424\n"
     ]
    }
   ],
   "source": [
    "from pyspark.sql.functions import col\n",
    "\n",
    "# Drop rows with null or NaN values in the target column\n",
    "df_from_hdfs = df_from_hdfs.dropna(subset=[\"Target\"])\n",
    "\n",
    "# Drop rows with null or NaN values in any feature column\n",
    "for feature_column in feature_columns:\n",
    "    df_from_hdfs = df_from_hdfs.dropna(subset=[feature_column])\n",
    "\n",
    "# Debug print to check the count of the dataset after preprocessing\n",
    "print(\"Count of rows in the dataset after preprocessing:\", df_from_hdfs.count())\n"
   ]
  },
  {
   "cell_type": "code",
   "execution_count": 18,
   "id": "c18449de-65fa-49ca-a92d-45996aeb2b22",
   "metadata": {},
   "outputs": [
    {
     "name": "stdout",
     "output_type": "stream",
     "text": [
      "Accuracy: 0.7617924528301887\n"
     ]
    }
   ],
   "source": [
    "from pyspark.ml.feature import VectorAssembler, StringIndexer\n",
    "from pyspark.ml.classification import RandomForestClassifier\n",
    "from pyspark.ml import Pipeline\n",
    "from pyspark.ml.evaluation import MulticlassClassificationEvaluator\n",
    "\n",
    "# Define feature columns (excluding the target column)\n",
    "feature_columns = df_from_hdfs.columns[:-1]  # Assuming the last column is the target column\n",
    "target_column = \"Target\"  # Replace \"Target\" with your actual target column name\n",
    "\n",
    "# Assemble features into a vector\n",
    "vector_assembler = VectorAssembler(inputCols=feature_columns, outputCol=\"features\")\n",
    "\n",
    "# Convert string labels to numeric labels\n",
    "label_indexer = StringIndexer(inputCol=target_column, outputCol=\"label\")\n",
    "\n",
    "# Create a Random Forest classifier\n",
    "rf_classifier = RandomForestClassifier(labelCol=\"label\", featuresCol=\"features\", numTrees=10)\n",
    "\n",
    "# Create a pipeline\n",
    "pipeline = Pipeline(stages=[vector_assembler, label_indexer, rf_classifier])\n",
    "\n",
    "# Split the data into training and testing sets\n",
    "(training_data, testing_data) = df_from_hdfs.randomSplit([0.8, 0.2], seed=1234)\n",
    "\n",
    "# Train the Random Forest model\n",
    "model = pipeline.fit(training_data)\n",
    "\n",
    "# Make predictions on the testing data\n",
    "predictions = model.transform(testing_data)\n",
    "\n",
    "# Evaluate the model\n",
    "evaluator = MulticlassClassificationEvaluator(labelCol=\"label\", predictionCol=\"prediction\", metricName=\"accuracy\")\n",
    "accuracy = evaluator.evaluate(predictions)\n",
    "\n",
    "# Print the accuracy\n",
    "print(\"Accuracy:\", accuracy)\n"
   ]
  },
  {
   "cell_type": "code",
   "execution_count": null,
   "id": "f4c937b9-3881-4843-8c44-03c5adf55b83",
   "metadata": {},
   "outputs": [],
   "source": []
  }
 ],
 "metadata": {
  "kernelspec": {
   "display_name": "Python 3 (ipykernel)",
   "language": "python",
   "name": "python3"
  },
  "language_info": {
   "codemirror_mode": {
    "name": "ipython",
    "version": 3
   },
   "file_extension": ".py",
   "mimetype": "text/x-python",
   "name": "python",
   "nbconvert_exporter": "python",
   "pygments_lexer": "ipython3",
   "version": "3.11.6"
  }
 },
 "nbformat": 4,
 "nbformat_minor": 5
}
